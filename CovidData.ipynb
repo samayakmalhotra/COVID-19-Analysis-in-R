{
  "nbformat": 4,
  "nbformat_minor": 0,
  "metadata": {
    "colab": {
      "provenance": [],
      "authorship_tag": "ABX9TyO0IWCXMSEg4fWjeOoEZqhB",
      "include_colab_link": true
    },
    "kernelspec": {
      "name": "python3",
      "display_name": "Python 3"
    },
    "language_info": {
      "name": "python"
    }
  },
  "cells": [
    {
      "cell_type": "markdown",
      "metadata": {
        "id": "view-in-github",
        "colab_type": "text"
      },
      "source": [
        "<a href=\"https://colab.research.google.com/github/samayakmalhotra/COVID-19-Analysis-in-R/blob/main/CovidData.ipynb\" target=\"_parent\"><img src=\"https://colab.research.google.com/assets/colab-badge.svg\" alt=\"Open In Colab\"/></a>"
      ]
    },
    {
      "cell_type": "code",
      "execution_count": null,
      "metadata": {
        "id": "Ikv2R9e25GaA"
      },
      "outputs": [],
      "source": [
        "import numpy as np\n",
        "import pandas as pd\n",
        "from matplotlib import pyplot as plt\n",
        "import seaborn as sns\n",
        "\n",
        "import matplotlib.pyplot as plt #used for drawing graphs\n",
        "from sklearn.linear_model import LogisticRegression\n",
        "from sklearn.discriminant_analysis import LinearDiscriminantAnalysis\n",
        "from sklearn.model_selection import cross_val_score\n",
        "from sklearn.model_selection import StratifiedKFold\n",
        "from sklearn.metrics import classification_report\n",
        "from sklearn.metrics import confusion_matrix\n",
        "from sklearn.metrics import accuracy_score\n",
        "\n",
        "from sklearn.decomposition import PCA #to perform PCA to plot the data\n",
        "from sklearn.preprocessing import StandardScaler\n",
        "from sklearn.model_selection import train_test_split #spliting data into training and testing set\n",
        "from sklearn.model_selection import train_test_split\n",
        "from sklearn.preprocessing import StandardScaler #For Standardization\n",
        "from sklearn.preprocessing import MinMaxScaler\n",
        "from sklearn.linear_model import Ridge,LinearRegression,Lasso\n",
        "from sklearn.model_selection import train_test_split,cross_val_score\n",
        "from sklearn.neighbors import KNeighborsRegressor\n",
        "from sklearn.svm import SVR\n",
        "plt.style.use('seaborn')\n",
        "%matplotlib inline"
      ]
    },
    {
      "cell_type": "code",
      "source": [
        "covid_dataset=pd.read_csv(r\"/content/covid_data.csv\")\n",
        "covid_dataset=covid_dataset.drop(['Sample'], axis=1)"
      ],
      "metadata": {
        "id": "9qpfVWuM5NtL"
      },
      "execution_count": null,
      "outputs": []
    },
    {
      "cell_type": "code",
      "source": [
        "covid_dataset['Sex']=pd.factorize(covid_dataset.Sex)[0]\n",
        "covid_dataset['Severity']=pd.factorize(covid_dataset.Severity)[0]"
      ],
      "metadata": {
        "id": "PF40L8vL5QRY"
      },
      "execution_count": null,
      "outputs": []
    },
    {
      "cell_type": "code",
      "source": [
        "#Splitting the dataset into X & y\n",
        "X=covid_dataset.drop('Severity' ,axis=1)\n",
        "y=covid_dataset['Severity']\n",
        "print(X.shape) #Gives the number of rows and columns\n",
        "print(y.shape)"
      ],
      "metadata": {
        "colab": {
          "base_uri": "https://localhost:8080/"
        },
        "id": "jzDPzHKc6XPA",
        "outputId": "6494c171-2868-4b5e-e814-832fff0d3ed9"
      },
      "execution_count": null,
      "outputs": [
        {
          "output_type": "stream",
          "name": "stdout",
          "text": [
            "(126, 19474)\n",
            "(126,)\n"
          ]
        }
      ]
    },
    {
      "cell_type": "code",
      "source": [
        "X_train,X_test,y_train,y_test=train_test_split(X,y,test_size=0.40,random_state=100) #random_state produces same output every time we run it."
      ],
      "metadata": {
        "id": "QcJ5WEGz6YMd"
      },
      "execution_count": null,
      "outputs": []
    },
    {
      "cell_type": "code",
      "source": [
        "#Creating the cross validation scheme\n",
        "from sklearn.model_selection import KFold\n",
        "folds= KFold(n_splits=5,shuffle=True,random_state=100)"
      ],
      "metadata": {
        "id": "igKZiH216jMs"
      },
      "execution_count": null,
      "outputs": []
    },
    {
      "cell_type": "code",
      "source": [
        " #Specifying the HyperParameters\n",
        " Hyper_params=[{\"n_features_to_select\":list(range(1,5))}]"
      ],
      "metadata": {
        "id": "7lshJ5oD67SC"
      },
      "execution_count": null,
      "outputs": []
    },
    {
      "cell_type": "code",
      "source": [
        "#Performing the Grid Search cross validation\n",
        "#Specify the model\n",
        "from sklearn.linear_model import LinearRegression\n",
        "lm=LinearRegression() #Instantiation\n",
        "lm.fit(X_train,y_train)"
      ],
      "metadata": {
        "colab": {
          "base_uri": "https://localhost:8080/"
        },
        "id": "5oaCYH8y7Ye4",
        "outputId": "9350d340-25b3-454a-ea93-11ce59812860"
      },
      "execution_count": null,
      "outputs": [
        {
          "output_type": "execute_result",
          "data": {
            "text/plain": [
              "LinearRegression()"
            ]
          },
          "metadata": {},
          "execution_count": 59
        }
      ]
    },
    {
      "cell_type": "code",
      "source": [
        "from sklearn.svm import SVC"
      ],
      "metadata": {
        "id": "GH3hSCPEsXha"
      },
      "execution_count": null,
      "outputs": []
    },
    {
      "cell_type": "code",
      "source": [
        "kernel=['linear','rbf','poly','sigmoid']\n",
        "for i in kernel:\n",
        "  model=SVC(kernel=i,C=1.0)\n",
        "  model.fit(X_train,y_train)\n",
        "  print('for kernel:',i)\n",
        "  print('The Accuracy is:',model.score(X_test,y_test))\n"
      ],
      "metadata": {
        "colab": {
          "base_uri": "https://localhost:8080/"
        },
        "id": "Hl3_SKbSsXba",
        "outputId": "f17144da-8228-46b0-a023-1da4c36ab322"
      },
      "execution_count": null,
      "outputs": [
        {
          "output_type": "stream",
          "name": "stdout",
          "text": [
            "for kernel: linear\n",
            "The Accuracy is: 0.7254901960784313\n",
            "for kernel: rbf\n",
            "The Accuracy is: 0.6666666666666666\n",
            "for kernel: poly\n",
            "The Accuracy is: 0.5882352941176471\n",
            "for kernel: sigmoid\n",
            "The Accuracy is: 0.6470588235294118\n"
          ]
        }
      ]
    },
    {
      "cell_type": "code",
      "source": [
        "model=SVC()\n",
        "model.fit(X_train,y_train)\n",
        "print('The Accuracy on testing data is:',model.score(X_test,y_test))\n",
        "print('The Accuracy on training data is:',model.score(X_train,y_train))\n"
      ],
      "metadata": {
        "colab": {
          "base_uri": "https://localhost:8080/"
        },
        "id": "qRG45zgisXWK",
        "outputId": "3842f939-b585-40a3-a0b2-1b7571689ffc"
      },
      "execution_count": null,
      "outputs": [
        {
          "output_type": "stream",
          "name": "stdout",
          "text": [
            "The Accuracy on testing data is: 0.6666666666666666\n",
            "The Accuracy on training data is: 0.7466666666666667\n"
          ]
        }
      ]
    },
    {
      "cell_type": "code",
      "source": [
        "#Performing Grid Search\n",
        "from sklearn.model_selection import GridSearchCV\n",
        "param_grid={'C':[0.1,100,1000],'kernel':['linear','rbf','poly','sigmoid'],'degree':[1,2,3,4,5,6]}\n",
        "grid=GridSearchCV(SVC(),param_grid)\n",
        "grid.fit(X_train,y_train) #Fitting the Model"
      ],
      "metadata": {
        "colab": {
          "base_uri": "https://localhost:8080/"
        },
        "id": "3t-okthKsXQ9",
        "outputId": "461b087d-c056-4e94-a5d3-ce3eab2fd819"
      },
      "execution_count": null,
      "outputs": [
        {
          "output_type": "execute_result",
          "data": {
            "text/plain": [
              "GridSearchCV(estimator=SVC(),\n",
              "             param_grid={'C': [0.1, 100, 1000], 'degree': [1, 2, 3, 4, 5, 6],\n",
              "                         'kernel': ['linear', 'rbf', 'poly', 'sigmoid']})"
            ]
          },
          "metadata": {},
          "execution_count": 63
        }
      ]
    },
    {
      "cell_type": "code",
      "source": [
        "print(grid.best_params_)\n",
        "print(grid.score(X_test,y_test)) #Prints accuracy after Grid Search"
      ],
      "metadata": {
        "colab": {
          "base_uri": "https://localhost:8080/"
        },
        "id": "KsFSGs0LsXMS",
        "outputId": "438c5f80-f9b7-45b0-bf2c-dea810a94a7d"
      },
      "execution_count": null,
      "outputs": [
        {
          "output_type": "stream",
          "name": "stdout",
          "text": [
            "{'C': 100, 'degree': 3, 'kernel': 'poly'}\n",
            "0.7254901960784313\n"
          ]
        }
      ]
    },
    {
      "cell_type": "code",
      "source": [
        "#Outputting the results\n",
        "cvresults=pd.DataFrame(grid.cv_results_)\n",
        "cvresults"
      ],
      "metadata": {
        "id": "1jkX7yrtCcMv"
      },
      "execution_count": null,
      "outputs": []
    },
    {
      "cell_type": "code",
      "source": [
        "print(np.mean(cvresults))"
      ],
      "metadata": {
        "id": "KgTGiXOlDEc8",
        "colab": {
          "base_uri": "https://localhost:8080/"
        },
        "outputId": "67ac614d-adf6-4dfc-a99e-0ac58dfb134a"
      },
      "execution_count": null,
      "outputs": [
        {
          "output_type": "stream",
          "name": "stdout",
          "text": [
            "mean_fit_time          0.233168\n",
            "std_fit_time           0.011382\n",
            "mean_score_time        0.196450\n",
            "std_score_time         0.012767\n",
            "param_C              366.700000\n",
            "param_degree           3.500000\n",
            "split0_test_score      0.730556\n",
            "split1_test_score      0.736111\n",
            "split2_test_score      0.711111\n",
            "split3_test_score      0.682407\n",
            "split4_test_score      0.574074\n",
            "mean_test_score        0.686852\n",
            "std_test_score         0.113413\n",
            "rank_test_score       32.458333\n",
            "dtype: float64\n"
          ]
        }
      ]
    },
    {
      "cell_type": "code",
      "source": [
        "#Feature Scaling before PCA is required. If we dont scale it then accuracy would reduce.\n",
        "from sklearn.preprocessing import StandardScaler\n",
        "sc = StandardScaler()\n",
        "\n",
        "X_scaled = sc.fit_transform(X)\n",
        "X_scaled"
      ],
      "metadata": {
        "id": "G6hfI28Z2Nsr"
      },
      "execution_count": null,
      "outputs": []
    },
    {
      "cell_type": "code",
      "source": [
        "#PCA(Principal Component Analysis) to reduce the number of variables and to find the correlation between the variables.\n",
        "from sklearn.decomposition import PCA\n",
        "\n",
        "pca = PCA(n_components=10) #n_components = 10 #0.95 tells PCA to retain 95% useful features and create new dimensions.\n",
        "X_pca = pca.fit_transform(X_scaled)\n",
        "X_pca.shape"
      ],
      "metadata": {
        "colab": {
          "base_uri": "https://localhost:8080/"
        },
        "id": "Dq7fEDZx6CH_",
        "outputId": "6e79341b-5d4f-4e82-9863-be17c11e918d"
      },
      "execution_count": null,
      "outputs": [
        {
          "output_type": "execute_result",
          "data": {
            "text/plain": [
              "(126, 10)"
            ]
          },
          "metadata": {},
          "execution_count": 82
        }
      ]
    },
    {
      "cell_type": "code",
      "source": [
        "pca.explained_variance_ratio_"
      ],
      "metadata": {
        "colab": {
          "base_uri": "https://localhost:8080/"
        },
        "id": "XoMQthM56CDb",
        "outputId": "9a0c8219-96a6-4ac9-e8b0-d52c3acec913"
      },
      "execution_count": null,
      "outputs": [
        {
          "output_type": "execute_result",
          "data": {
            "text/plain": [
              "array([0.28501431, 0.15097841, 0.03709269, 0.02952083, 0.0283656 ,\n",
              "       0.01984677, 0.01860763, 0.01578315, 0.0142702 , 0.01183295])"
            ]
          },
          "metadata": {},
          "execution_count": 83
        }
      ]
    },
    {
      "cell_type": "code",
      "source": [
        "X_train_pca,X_test_pca,y_train,y_test =train_test_split(X_pca,y,test_size=0.33, random_state=30)"
      ],
      "metadata": {
        "id": "0pOPbhGc6I4i"
      },
      "execution_count": null,
      "outputs": []
    },
    {
      "cell_type": "code",
      "source": [
        "model=LogisticRegression()\n",
        "model.fit(X_train_pca,y_train)\n",
        "model.score(X_test_pca,y_test)"
      ],
      "metadata": {
        "colab": {
          "base_uri": "https://localhost:8080/"
        },
        "id": "JgPc1vKh6Ipk",
        "outputId": "14da1d81-489b-4939-9abe-27db92721ff5"
      },
      "execution_count": null,
      "outputs": [
        {
          "output_type": "execute_result",
          "data": {
            "text/plain": [
              "0.8095238095238095"
            ]
          },
          "metadata": {},
          "execution_count": 85
        }
      ]
    },
    {
      "cell_type": "code",
      "source": [],
      "metadata": {
        "id": "pNJRsv_P2Nl5"
      },
      "execution_count": null,
      "outputs": []
    },
    {
      "cell_type": "code",
      "source": [
        "from sklearn.metrics import classification_report\n",
        "\n",
        "predicted = grid.predict(X_test)\n",
        "report = classification_report(y_test, y_pred)\n",
        "print(report)\n",
        "#report = classification_report(y_test, predicted)#print(report)"
      ],
      "metadata": {
        "id": "0Z3etrvA1TiC"
      },
      "execution_count": null,
      "outputs": []
    },
    {
      "cell_type": "code",
      "source": [
        "#Finding the Score on test data\n",
        "import sklearn\n",
        "r2=sklearn.metrics.r2_score(y_test,y_pred)\n",
        "print(r2)"
      ],
      "metadata": {
        "id": "D2FYRpClf-0G"
      },
      "execution_count": null,
      "outputs": []
    }
  ]
}