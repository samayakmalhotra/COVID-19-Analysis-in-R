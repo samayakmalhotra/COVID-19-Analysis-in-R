{
  "nbformat": 4,
  "nbformat_minor": 0,
  "metadata": {
    "colab": {
      "provenance": [],
      "authorship_tag": "ABX9TyO/9/lK3EOIfPz+6BARFA/a"
    },
    "kernelspec": {
      "name": "python3",
      "display_name": "Python 3"
    },
    "language_info": {
      "name": "python"
    }
  },
  "cells": [
    {
      "cell_type": "code",
      "execution_count": null,
      "metadata": {
        "id": "mZLRyfBrrRwN"
      },
      "outputs": [],
      "source": [
        "import numpy as np\n",
        "import pandas as pd\n",
        "from matplotlib import pyplot as plt\n",
        "import seaborn as sns\n",
        "import matplotlib.pyplot as plt #used for drawing graphs\n",
        "from sklearn.linear_model import LogisticRegression\n",
        "from sklearn.discriminant_analysis import LinearDiscriminantAnalysis\n",
        "from sklearn.model_selection import cross_val_score\n",
        "from sklearn.metrics import accuracy_score\n",
        "from sklearn.model_selection import StratifiedKFold\n",
        "from sklearn.metrics import classification_report\n",
        "from sklearn.metrics import confusion_matrix\n",
        "from sklearn.metrics import accuracy_score\n",
        "from sklearn.decomposition import PCA #to perform PCA to plot the data\n",
        "from sklearn.model_selection import train_test_split #spliting data into training and testing set\n",
        "from sklearn.preprocessing import StandardScaler #For Standardization\n",
        "from sklearn.preprocessing import MinMaxScaler\n",
        "from sklearn.linear_model import Ridge,LinearRegression,Lasso\n",
        "from sklearn.tree import DecisionTreeClassifier\n",
        "from sklearn.ensemble import RandomForestClassifier\n",
        "\n",
        "from sklearn.model_selection import cross_val_score\n",
        "from sklearn.neighbors import KNeighborsRegressor\n",
        "from sklearn.svm import SVR\n",
        "plt.style.use('seaborn')\n",
        "%matplotlib inline"
      ]
    },
    {
      "cell_type": "code",
      "source": [
        "covid_dataset=pd.read_csv(r\"/content/covid_data.csv\")"
      ],
      "metadata": {
        "id": "FDYUpEtBraEH"
      },
      "execution_count": null,
      "outputs": []
    },
    {
      "cell_type": "code",
      "source": [
        "covid_dataset.head()"
      ],
      "metadata": {
        "id": "YXGEJgCKsD-9"
      },
      "execution_count": null,
      "outputs": []
    },
    {
      "cell_type": "code",
      "source": [
        "covid_dataset.info()"
      ],
      "metadata": {
        "id": "cmkfbtr_ed0F"
      },
      "execution_count": null,
      "outputs": []
    },
    {
      "cell_type": "code",
      "source": [
        "covid_dataset.shape #We see that there are only 126 samples and 1900+ variables therefore its a HDD problem."
      ],
      "metadata": {
        "id": "m7W9KrkQeqSE"
      },
      "execution_count": null,
      "outputs": []
    },
    {
      "cell_type": "code",
      "source": [
        "covid_dataset.dtypes #NEED TO change Sex and Severity to Numeric (Label Encoding)"
      ],
      "metadata": {
        "id": "0LSr40CJeyOA"
      },
      "execution_count": null,
      "outputs": []
    },
    {
      "cell_type": "code",
      "source": [
        "covid_dataset['Sex']=pd.factorize(covid_dataset.Sex)[0] #0 starts from index 0."
      ],
      "metadata": {
        "id": "a0vaBzoehQrY"
      },
      "execution_count": null,
      "outputs": []
    },
    {
      "cell_type": "code",
      "source": [
        "covid_dataset['Severity']=pd.factorize(covid_dataset.Severity)[0] #0 starts from index 0."
      ],
      "metadata": {
        "id": "ynO6_AV5hoaG"
      },
      "execution_count": null,
      "outputs": []
    },
    {
      "cell_type": "code",
      "source": [
        "covid_dataset.dtypes"
      ],
      "metadata": {
        "id": "vfjwdNFBh8vh"
      },
      "execution_count": null,
      "outputs": []
    },
    {
      "cell_type": "code",
      "source": [
        "#Dropping Sample column but check for same sample id before doing that.\n",
        "\n",
        "covid_dataset=covid_dataset.drop(['Sample'], axis=1)"
      ],
      "metadata": {
        "id": "K1vdhx4uolgz"
      },
      "execution_count": null,
      "outputs": []
    },
    {
      "cell_type": "code",
      "source": [
        "covid_dataset.head() #0=NonICU and Male #1=ICU and Female"
      ],
      "metadata": {
        "id": "bFn4vl91lWMN"
      },
      "execution_count": null,
      "outputs": []
    },
    {
      "cell_type": "code",
      "source": [
        "covid_dataset.isnull().sum() #No NULL Values in the dataset. Every geneome sequence has a value."
      ],
      "metadata": {
        "id": "yOsTaOfxs-jb"
      },
      "execution_count": null,
      "outputs": []
    },
    {
      "cell_type": "code",
      "source": [
        "sns.heatmap(covid_dataset.isnull())"
      ],
      "metadata": {
        "colab": {
          "base_uri": "https://localhost:8080/",
          "height": 327
        },
        "id": "eVuh3lWvpwuQ",
        "outputId": "22d470fa-cebd-4e32-8044-9247f3ac5a24"
      },
      "execution_count": null,
      "outputs": [
        {
          "output_type": "execute_result",
          "data": {
            "text/plain": [
              "<matplotlib.axes._subplots.AxesSubplot at 0x7f255fd92e50>"
            ]
          },
          "metadata": {},
          "execution_count": 16
        },
        {
          "output_type": "display_data",
          "data": {
            "image/png": "[encoded data removed]",
            "text/plain": [
              "<Figure size 432x288 with 2 Axes>"
            ]
          },
          "metadata": {
            "needs_background": "light"
          }
        }
      ]
    },
    {
      "cell_type": "code",
      "source": [
        "grouped_df = covid_dataset.groupby([\"Age\", \"Severity\"])   #Grouping Age and Severity to visualize data better\n",
        "\n",
        "for key,item in grouped_df:\n",
        "  a_group = grouped_df.get_group(key)\n",
        "  print(a_group, \"\\n\")"
      ],
      "metadata": {
        "id": "oKS8nF0NZrz9"
      },
      "execution_count": null,
      "outputs": []
    },
    {
      "cell_type": "code",
      "source": [
        "age_group = covid_dataset.groupby('Age') #Gives number of patients in a specific age group\n",
        "age_group.size()"
      ],
      "metadata": {
        "id": "pFHAjbQUY_ya"
      },
      "execution_count": null,
      "outputs": []
    },
    {
      "cell_type": "code",
      "source": [
        "covid_group=covid_dataset.groupby(['Age', 'Severity'])\n",
        "covid_group.size()"
      ],
      "metadata": {
        "id": "pa8S9eCqZnvg",
        "colab": {
          "base_uri": "https://localhost:8080/"
        },
        "outputId": "3b75f293-e402-4c57-9bf4-dcc65ba0741a"
      },
      "execution_count": null,
      "outputs": [
        {
          "output_type": "execute_result",
          "data": {
            "text/plain": [
              "Age  Severity\n",
              "21   1           1\n",
              "24   0           1\n",
              "27   0           1\n",
              "29   0           1\n",
              "30   0           1\n",
              "                ..\n",
              "85   0           1\n",
              "86   0           1\n",
              "87   0           1\n",
              "88   1           1\n",
              "90   0           2\n",
              "Length: 76, dtype: int64"
            ]
          },
          "metadata": {},
          "execution_count": 18
        }
      ]
    },
    {
      "cell_type": "code",
      "source": [
        "#Split the dataset into x & y\n",
        "X=covid_dataset.drop('Severity' ,axis=1)\n",
        "y=covid_dataset['Severity']\n",
        "print(X.shape)\n",
        "print(y.shape)"
      ],
      "metadata": {
        "colab": {
          "base_uri": "https://localhost:8080/"
        },
        "id": "B7xCkYCOfaEY",
        "outputId": "56317369-45f2-41cd-caf5-15b22973b991"
      },
      "execution_count": null,
      "outputs": [
        {
          "output_type": "stream",
          "name": "stdout",
          "text": [
            "(126, 19474)\n",
            "(126,)\n"
          ]
        }
      ]
    },
    {
      "cell_type": "code",
      "source": [
        "#Feature Scaling before PCA. If we dont scale it then accuracy would reduce.\n",
        "from sklearn.preprocessing import StandardScaler\n",
        "sc = StandardScaler()\n",
        "\n",
        "X_scaled = sc.fit_transform(X)\n",
        "X_scaled"
      ],
      "metadata": {
        "id": "kx5wEW4W-dKu"
      },
      "execution_count": null,
      "outputs": []
    },
    {
      "cell_type": "code",
      "source": [
        "#PCA(Principal Component Analysis) to reduce the number of variables and to find the correlation between the variables.\n",
        "from sklearn.decomposition import PCA\n",
        "\n",
        "pca = PCA(n_components=50) #n_components = 10 #0.95 tells PCA to retain 95% useful features and create new dimensions.\n",
        "\n",
        "X_pca = pca.fit_transform(X_scaled)\n",
        "X_pca.shape\n"
      ],
      "metadata": {
        "id": "fQxsWHO8-2Lj",
        "colab": {
          "base_uri": "https://localhost:8080/"
        },
        "outputId": "b430802c-98f1-4acf-feae-70d3f9a7ec06"
      },
      "execution_count": null,
      "outputs": [
        {
          "output_type": "execute_result",
          "data": {
            "text/plain": [
              "(126, 50)"
            ]
          },
          "metadata": {},
          "execution_count": 8
        }
      ]
    },
    {
      "cell_type": "code",
      "source": [
        "X_train,X_test,y_train,y_test=train_test_split(X,y,test_size=0.33,random_state=30) #random_state produces same output."
      ],
      "metadata": {
        "id": "jUvyeMlZ3x0U"
      },
      "execution_count": null,
      "outputs": []
    },
    {
      "cell_type": "code",
      "source": [
        "#Perform Classification Using Decision Tree Classifier"
      ],
      "metadata": {
        "id": "Ywntz5s2u0O1"
      },
      "execution_count": null,
      "outputs": []
    },
    {
      "cell_type": "code",
      "source": [
        "# Using simple Decision Tree classifier\n",
        "from sklearn import tree\n",
        "decision_tree = tree.DecisionTreeClassifier(max_depth=6,random_state=0)\n",
        "decision_tree.fit(X_train, y_train) #Train\n",
        "decision_tree.score(X_test, y_test) #Make Prediction\n",
        "\n",
        "y_pred=decision_tree.predict(X_test)\n",
        "decision_tree.score(X_test,y_test)"
      ],
      "metadata": {
        "colab": {
          "base_uri": "https://localhost:8080/"
        },
        "id": "wr_lRm-du0KD",
        "outputId": "d93b4a0d-ed0d-4931-c75f-6a5031e1bada"
      },
      "execution_count": null,
      "outputs": [
        {
          "output_type": "execute_result",
          "data": {
            "text/plain": [
              "0.7380952380952381"
            ]
          },
          "metadata": {},
          "execution_count": 78
        }
      ]
    },
    {
      "cell_type": "code",
      "source": [
        "#Creating a confusion matrix\n",
        "y_pred = decision_tree.predict(X_test)\n",
        "\n",
        "from sklearn.metrics import confusion_matrix\n",
        "confusion_matrix(y_test, y_pred)"
      ],
      "metadata": {
        "colab": {
          "base_uri": "https://localhost:8080/"
        },
        "id": "PxFO5pB5u0Em",
        "outputId": "c995c8cd-3d84-4906-c0c5-1a27d4717d00"
      },
      "execution_count": null,
      "outputs": [
        {
          "output_type": "execute_result",
          "data": {
            "text/plain": [
              "array([[16,  4],\n",
              "       [ 7, 15]])"
            ]
          },
          "metadata": {},
          "execution_count": 79
        }
      ]
    },
    {
      "cell_type": "code",
      "source": [
        "##Perform Classification Using Random Forest Classifier"
      ],
      "metadata": {
        "id": "_-fgZ0xmu0A2"
      },
      "execution_count": null,
      "outputs": []
    },
    {
      "cell_type": "code",
      "source": [
        "from sklearn import ensemble\n",
        "rf_clf = ensemble.RandomForestClassifier(n_estimators=100)\n",
        "rf_clf.fit(X_train, y_train)\n",
        "rf_clf.score(X_test, y_test) #85.71% Accuracy Achieved.\n"
      ],
      "metadata": {
        "colab": {
          "base_uri": "https://localhost:8080/"
        },
        "id": "txOwcz2Wuz1I",
        "outputId": "c2d729a1-0d7a-44dc-ae5e-439ac858a530"
      },
      "execution_count": null,
      "outputs": [
        {
          "output_type": "execute_result",
          "data": {
            "text/plain": [
              "0.8571428571428571"
            ]
          },
          "metadata": {},
          "execution_count": 90
        }
      ]
    },
    {
      "cell_type": "code",
      "source": [
        "#Perform Classification Using KNN Classifier"
      ],
      "metadata": {
        "id": "0acsxBQeyTQ1"
      },
      "execution_count": null,
      "outputs": []
    },
    {
      "cell_type": "code",
      "source": [
        "from sklearn.neighbors import KNeighborsClassifier\n",
        "knn= KNeighborsClassifier(n_neighbors=3)\n",
        "knn.fit(X_train,y_train)\n",
        "knn.score(X_test,y_test) #Low accuracy\n"
      ],
      "metadata": {
        "colab": {
          "base_uri": "https://localhost:8080/"
        },
        "id": "oFiaKiQByTL8",
        "outputId": "2b723a6e-7f3d-44b0-9523-6761f052d65b"
      },
      "execution_count": null,
      "outputs": [
        {
          "output_type": "execute_result",
          "data": {
            "text/plain": [
              "0.6904761904761905"
            ]
          },
          "metadata": {},
          "execution_count": 95
        }
      ]
    },
    {
      "cell_type": "code",
      "source": [
        "#Perform Classification Using Linear Classifier"
      ],
      "metadata": {
        "id": "1mYTzt6sz3Vh"
      },
      "execution_count": null,
      "outputs": []
    },
    {
      "cell_type": "code",
      "source": [
        "from sklearn.linear_model import LogisticRegression\n",
        "lr=LogisticRegression()\n",
        "lr.fit(X_train,y_train)\n",
        "lr.score(X_test,y_test)"
      ],
      "metadata": {
        "colab": {
          "base_uri": "https://localhost:8080/"
        },
        "id": "c4w-5BDdz3PV",
        "outputId": "a0825fc3-a37c-45ae-9309-793c9a090ad7"
      },
      "execution_count": null,
      "outputs": [
        {
          "output_type": "execute_result",
          "data": {
            "text/plain": [
              "0.8333333333333334"
            ]
          },
          "metadata": {},
          "execution_count": 98
        }
      ]
    },
    {
      "cell_type": "code",
      "source": [
        "#Perform Classification Using SVM Classifier"
      ],
      "metadata": {
        "id": "XO6W6KhWyTG5"
      },
      "execution_count": null,
      "outputs": []
    },
    {
      "cell_type": "code",
      "source": [
        "from sklearn.svm import SVC\n",
        "svc=SVC(probability=True)\n",
        "svc.fit(X_train,y_train)\n",
        "svc.score(X_test,y_test)"
      ],
      "metadata": {
        "colab": {
          "base_uri": "https://localhost:8080/"
        },
        "id": "bzI5YqfS0T6D",
        "outputId": "efd786d8-83db-4569-babd-5bac4d9aa5c6"
      },
      "execution_count": null,
      "outputs": [
        {
          "output_type": "execute_result",
          "data": {
            "text/plain": [
              "0.8095238095238095"
            ]
          },
          "metadata": {},
          "execution_count": 107
        }
      ]
    },
    {
      "cell_type": "code",
      "source": [
        "#Accuracy reduces after you cross validate\n",
        "from sklearn.model_selection import cross_val_score\n",
        "np.mean(cross_val_score(RandomForestClassifier(max_samples=0.75),X,y,cv=10,scoring='accuracy'))"
      ],
      "metadata": {
        "colab": {
          "base_uri": "https://localhost:8080/"
        },
        "id": "zqNhsJ_t4m63",
        "outputId": "cd9aa1ac-322c-43f0-a161-67d7c0c4eb69"
      },
      "execution_count": null,
      "outputs": [
        {
          "output_type": "execute_result",
          "data": {
            "text/plain": [
              "0.7903846153846155"
            ]
          },
          "metadata": {},
          "execution_count": 124
        }
      ]
    },
    {
      "cell_type": "code",
      "source": [
        "#HyperParameter Tuning using GridSearchCV\n",
        "#Number of trees in Random forest\n",
        "n_estimators=[int(x) for x in np.linspace(start=10,stop=80,num=10)]\n",
        "max_features=['auto','sqrt']\n",
        "max_depth=[2,4]\n",
        "min_samples_split=[2,5]\n",
        "min_samples_leaf=[1,2]\n",
        "bootstap=[True,False]"
      ],
      "metadata": {
        "id": "wvlztChQ0Tx6"
      },
      "execution_count": null,
      "outputs": []
    },
    {
      "cell_type": "code",
      "source": [
        "#Creating the Paramter grid\n",
        "random_grid={'n_estimators':n_estimators, 'max_features':max_features,'max_depth':max_depth,'min_samples_split':min_samples_split,'min_samples_leaf':min_samples_leaf,'bootstrap':bootstap}\n",
        "print(random_grid)"
      ],
      "metadata": {
        "colab": {
          "base_uri": "https://localhost:8080/"
        },
        "id": "1ebgHLRf0Tsz",
        "outputId": "1a2de74f-1723-4000-80c7-c7d6e2de2830"
      },
      "execution_count": null,
      "outputs": [
        {
          "output_type": "stream",
          "name": "stdout",
          "text": [
            "{'n_estimators': [10, 17, 25, 33, 41, 48, 56, 64, 72, 80], 'max_features': ['auto', 'sqrt'], 'max_depth': [2, 4], 'min_samples_split': [2, 5], 'min_samples_leaf': [1, 2], 'bootstrap': [True, False]}\n"
          ]
        }
      ]
    },
    {
      "cell_type": "code",
      "source": [
        "from sklearn.ensemble import RandomForestClassifier\n",
        "rf_Model=RandomForestClassifier()"
      ],
      "metadata": {
        "id": "TVIVe7i10TnX"
      },
      "execution_count": null,
      "outputs": []
    },
    {
      "cell_type": "code",
      "source": [
        "from sklearn.model_selection import GridSearchCV, RandomizedSearchCV\n",
        "rf_Grid=GridSearchCV(estimator=rf_Model,param_grid=random_grid,cv=3,verbose=2,n_jobs=4)"
      ],
      "metadata": {
        "id": "yNWCi37O3Nr8"
      },
      "execution_count": null,
      "outputs": []
    },
    {
      "cell_type": "code",
      "source": [
        "rf_Grid.fit(X_train,y_train)"
      ],
      "metadata": {
        "colab": {
          "base_uri": "https://localhost:8080/"
        },
        "id": "mVUCZFe83NoL",
        "outputId": "9c93add1-e860-4c4c-e791-8bda2a30167c"
      },
      "execution_count": null,
      "outputs": [
        {
          "output_type": "stream",
          "name": "stdout",
          "text": [
            "Fitting 3 folds for each of 320 candidates, totalling 960 fits\n"
          ]
        },
        {
          "output_type": "execute_result",
          "data": {
            "text/plain": [
              "GridSearchCV(cv=3, estimator=RandomForestClassifier(), n_jobs=4,\n",
              "             param_grid={'bootstrap': [True, False], 'max_depth': [2, 4],\n",
              "                         'max_features': ['auto', 'sqrt'],\n",
              "                         'min_samples_leaf': [1, 2],\n",
              "                         'min_samples_split': [2, 5],\n",
              "                         'n_estimators': [10, 17, 25, 33, 41, 48, 56, 64, 72,\n",
              "                                          80]},\n",
              "             verbose=2)"
            ]
          },
          "metadata": {},
          "execution_count": 144
        }
      ]
    },
    {
      "cell_type": "code",
      "source": [
        "rf_Grid.best_params_"
      ],
      "metadata": {
        "colab": {
          "base_uri": "https://localhost:8080/"
        },
        "id": "WBbTxK-Z3Nfj",
        "outputId": "1f38543b-a817-459e-8a69-e26b61a28aff"
      },
      "execution_count": null,
      "outputs": [
        {
          "output_type": "execute_result",
          "data": {
            "text/plain": [
              "{'bootstrap': True,\n",
              " 'max_depth': 4,\n",
              " 'max_features': 'sqrt',\n",
              " 'min_samples_leaf': 1,\n",
              " 'min_samples_split': 2,\n",
              " 'n_estimators': 10}"
            ]
          },
          "metadata": {},
          "execution_count": 146
        }
      ]
    },
    {
      "cell_type": "code",
      "source": [
        "rf_Grid.best_score_"
      ],
      "metadata": {
        "colab": {
          "base_uri": "https://localhost:8080/"
        },
        "id": "WkYMdzZs3WIh",
        "outputId": "d8d540f9-8719-4ba5-d8a5-ccd9fb2df9bb"
      },
      "execution_count": null,
      "outputs": [
        {
          "output_type": "execute_result",
          "data": {
            "text/plain": [
              "0.8333333333333334"
            ]
          },
          "metadata": {},
          "execution_count": 147
        }
      ]
    },
    {
      "cell_type": "code",
      "source": [
        "print(f'Train Accuracy-:{rf_Grid.score(X_train,y_train):.3f}')\n",
        "print(f'Test Accuracy-:{rf_Grid.score(X_test,y_test):.3f}')"
      ],
      "metadata": {
        "colab": {
          "base_uri": "https://localhost:8080/"
        },
        "id": "V7XFJ9r93WMN",
        "outputId": "0617cc2f-15ab-45be-a300-66292b5f7c85"
      },
      "execution_count": null,
      "outputs": [
        {
          "output_type": "stream",
          "name": "stdout",
          "text": [
            "Train Accuracy-:0.976\n",
            "Test Accuracy-:0.810\n"
          ]
        }
      ]
    },
    {
      "cell_type": "code",
      "source": [],
      "metadata": {
        "id": "e3XVNEB5KYlJ"
      },
      "execution_count": null,
      "outputs": []
    },
    {
      "cell_type": "code",
      "source": [
        "# Estimate bias and variance\n",
        "import mlxtend\n",
        "from mlxtend.frequent_patterns import apriori\n",
        "from mlxtend.frequent_patterns import association_rules\n",
        "from mlxtend.evaluate import bias_variance_decomp\n",
        "mse, bias, var = bias_variance_decomp(rf_Grid, X_train, y_train, X_test, y_test,\n",
        "                                      loss='mse', num_rounds=200, random_seed=1)"
      ],
      "metadata": {
        "id": "PMhA0pt6GynM"
      },
      "execution_count": null,
      "outputs": []
    },
    {
      "cell_type": "code",
      "source": [],
      "metadata": {
        "id": "AMzDu2efod_V"
      },
      "execution_count": null,
      "outputs": []
    },
    {
      "cell_type": "code",
      "source": [],
      "metadata": {
        "id": "fMTFLU6BmNVZ"
      },
      "execution_count": null,
      "outputs": []
    },
    {
      "cell_type": "code",
      "source": [],
      "metadata": {
        "id": "sM09rslLmNK7"
      },
      "execution_count": null,
      "outputs": []
    },
    {
      "cell_type": "code",
      "source": [
        "#Build Random Forest with Hyperparameters\n",
        "#Number of trees in Random forest\n",
        "n_estimators=[int(x) for x in np.linspace(start=10,stop=80,num=10)]\n",
        "max_features=['auto','sqrt']\n",
        "max_depth=[2,4]\n",
        "min_samples_split=[2,5]\n",
        "min_samples_leaf=[1,2]\n",
        "bootstap=[True,False]"
      ],
      "metadata": {
        "id": "c3pHTCMVP30B"
      },
      "execution_count": null,
      "outputs": []
    },
    {
      "cell_type": "code",
      "source": [
        "#Creating the Paramter grid\n",
        "random_grid={'n_estimators':n_estimators, 'max_features':max_features,'max_depth':max_depth,'min_samples_split':min_samples_split,'min_samples_leaf':min_samples_leaf,'bootstrap':bootstap}\n",
        "print(random_grid)"
      ],
      "metadata": {
        "colab": {
          "base_uri": "https://localhost:8080/"
        },
        "id": "3RM-HIRlP3qA",
        "outputId": "274dc6d8-8018-4e68-d486-7a4f86c6901c"
      },
      "execution_count": null,
      "outputs": [
        {
          "output_type": "stream",
          "name": "stdout",
          "text": [
            "{'n_estimators': [10, 17, 25, 33, 41, 48, 56, 64, 72, 80], 'max_features': ['auto', 'sqrt'], 'max_depth': [2, 4], 'min_samples_split': [2, 5], 'min_samples_leaf': [1, 2], 'bootstrap': [True, False]}\n"
          ]
        }
      ]
    },
    {
      "cell_type": "code",
      "source": [
        "from sklearn.ensemble import RandomForestClassifier\n",
        "rf_Model=RandomForestClassifier()"
      ],
      "metadata": {
        "id": "Qk4gxd8OQKcN"
      },
      "execution_count": null,
      "outputs": []
    },
    {
      "cell_type": "code",
      "source": [
        "from sklearn.model_selection import GridSearchCV\n",
        "rf_Grid=GridSearchCV(estimator=rf_Model,param_grid=random_grid,cv=3,verbose=2,n_jobs=4)"
      ],
      "metadata": {
        "id": "VLHgtuwuQKQ4"
      },
      "execution_count": null,
      "outputs": []
    },
    {
      "cell_type": "code",
      "source": [
        "rf_Grid.fit(X_train,y_train)"
      ],
      "metadata": {
        "colab": {
          "base_uri": "https://localhost:8080/"
        },
        "id": "Jqo36gQCQUIM",
        "outputId": "423dc181-ed22-4493-85dd-88f2af212c7a"
      },
      "execution_count": null,
      "outputs": [
        {
          "output_type": "stream",
          "name": "stdout",
          "text": [
            "Fitting 3 folds for each of 320 candidates, totalling 960 fits\n"
          ]
        },
        {
          "output_type": "execute_result",
          "data": {
            "text/plain": [
              "GridSearchCV(cv=3, estimator=RandomForestClassifier(), n_jobs=4,\n",
              "             param_grid={'bootstrap': [True, False], 'max_depth': [2, 4],\n",
              "                         'max_features': ['auto', 'sqrt'],\n",
              "                         'min_samples_leaf': [1, 2],\n",
              "                         'min_samples_split': [2, 5],\n",
              "                         'n_estimators': [10, 17, 25, 33, 41, 48, 56, 64, 72,\n",
              "                                          80]},\n",
              "             verbose=2)"
            ]
          },
          "metadata": {},
          "execution_count": 19
        }
      ]
    },
    {
      "cell_type": "code",
      "source": [
        "rf_Grid.best_params_"
      ],
      "metadata": {
        "colab": {
          "base_uri": "https://localhost:8080/"
        },
        "id": "t1JhSvbDQUFG",
        "outputId": "d14bcd34-0c6b-40b7-cd67-efbbde67f0c9"
      },
      "execution_count": null,
      "outputs": [
        {
          "output_type": "execute_result",
          "data": {
            "text/plain": [
              "{'bootstrap': False,\n",
              " 'max_depth': 4,\n",
              " 'max_features': 'auto',\n",
              " 'min_samples_leaf': 2,\n",
              " 'min_samples_split': 2,\n",
              " 'n_estimators': 17}"
            ]
          },
          "metadata": {},
          "execution_count": 20
        }
      ]
    },
    {
      "cell_type": "code",
      "source": [
        "print(f'Train Accuracy-:{rf_Grid.score(X_train,y_train):.3f}')\n",
        "print(f'Test Accuracy-:{rf_Grid.score(X_test,y_test):.3f}')"
      ],
      "metadata": {
        "colab": {
          "base_uri": "https://localhost:8080/"
        },
        "id": "p5ICQO1sQUAx",
        "outputId": "9538408a-ceeb-4f41-e10c-f9f0706dc003"
      },
      "execution_count": null,
      "outputs": [
        {
          "output_type": "stream",
          "name": "stdout",
          "text": [
            "Train Accuracy-:1.000\n",
            "Test Accuracy-:0.810\n"
          ]
        }
      ]
    },
    {
      "cell_type": "code",
      "source": [],
      "metadata": {
        "id": "CtXJ_6WJQm4e"
      },
      "execution_count": null,
      "outputs": []
    },
    {
      "cell_type": "code",
      "source": [],
      "metadata": {
        "id": "4QXopjV3Qm1E"
      },
      "execution_count": null,
      "outputs": []
    },
    {
      "cell_type": "code",
      "source": [
        "#Building a Classification Model using Logistic Regression (can also do Random forest or SVM)\n",
        "from sklearn.linear_model import LogisticRegression\n",
        "model=LogisticRegression()\n",
        "model.fit(X_train,y_train)\n",
        "model.score(X_test,y_test) #For Accuracy"
      ],
      "metadata": {
        "colab": {
          "base_uri": "https://localhost:8080/"
        },
        "id": "OQUUXduYxea4",
        "outputId": "eff2efe6-f4f4-438d-e707-7a04804489ac"
      },
      "execution_count": null,
      "outputs": [
        {
          "output_type": "execute_result",
          "data": {
            "text/plain": [
              "0.8333333333333334"
            ]
          },
          "metadata": {},
          "execution_count": 20
        }
      ]
    },
    {
      "cell_type": "code",
      "source": [
        "pca.explained_variance_ratio_  #First colmn is carrying 56% of useful information, 32% in th second one and so on"
      ],
      "metadata": {
        "colab": {
          "base_uri": "https://localhost:8080/"
        },
        "id": "MDG33o2zzs_Y",
        "outputId": "85164a15-9bac-4579-e8f3-db3c9554f5ed"
      },
      "execution_count": null,
      "outputs": [
        {
          "output_type": "execute_result",
          "data": {
            "text/plain": [
              "array([0.564253  , 0.32903403, 0.03164755, 0.0254408 , 0.01749573,\n",
              "       0.01237131, 0.00339026, 0.00239726, 0.00210667, 0.00174339])"
            ]
          },
          "metadata": {},
          "execution_count": 22
        }
      ]
    },
    {
      "cell_type": "code",
      "source": [
        "pca.n_components_ #Tells you how many columns are achieved."
      ],
      "metadata": {
        "colab": {
          "base_uri": "https://localhost:8080/"
        },
        "id": "F05-d5UB0ABP",
        "outputId": "322e391d-9955-4982-a8fa-4849122025fa"
      },
      "execution_count": null,
      "outputs": [
        {
          "output_type": "execute_result",
          "data": {
            "text/plain": [
              "10"
            ]
          },
          "metadata": {},
          "execution_count": 23
        }
      ]
    },
    {
      "cell_type": "code",
      "source": [
        "X_train_pca,X_test_pca,y_train,y_test =train_test_split(X_pca,y,test_size=0.33, random_state=30)"
      ],
      "metadata": {
        "id": "qpdnNLdS0OMd"
      },
      "execution_count": null,
      "outputs": []
    },
    {
      "cell_type": "code",
      "source": [
        "model=LogisticRegression()\n",
        "model.fit(X_train_pca,y_train)\n",
        "model.score(X_test_pca,y_test) #3% Deviation from original accuracy."
      ],
      "metadata": {
        "colab": {
          "base_uri": "https://localhost:8080/"
        },
        "id": "mrbWLXHX0NZN",
        "outputId": "1bb3b0cc-dcdd-4870-90e0-e0460da6c25e"
      },
      "execution_count": null,
      "outputs": [
        {
          "output_type": "execute_result",
          "data": {
            "text/plain": [
              "0.8095238095238095"
            ]
          },
          "metadata": {},
          "execution_count": 25
        }
      ]
    },
    {
      "cell_type": "code",
      "source": [
        "# Use %timeit to measure function calls\n",
        "def f():\n",
        "    import time\n",
        "    time.sleep(3)\n",
        "\n",
        "%timeit -n1 f()"
      ],
      "metadata": {
        "id": "BDUY1bo345DC",
        "colab": {
          "base_uri": "https://localhost:8080/"
        },
        "outputId": "d5e4ecb9-d60c-4cd7-b205-2ae66d2f2046"
      },
      "execution_count": null,
      "outputs": [
        {
          "output_type": "stream",
          "name": "stdout",
          "text": [
            "1 loop, best of 5: 3 s per loop\n"
          ]
        }
      ]
    },
    {
      "cell_type": "code",
      "source": [
        "# Use %%time to measure evaluation cell the Unix way\n",
        "%%time\n",
        "\n",
        "f()"
      ],
      "metadata": {
        "id": "aFmEYogV44_S",
        "colab": {
          "base_uri": "https://localhost:8080/"
        },
        "outputId": "08cca529-da7d-4d54-d009-0b2f8fd7fced"
      },
      "execution_count": null,
      "outputs": [
        {
          "output_type": "stream",
          "name": "stdout",
          "text": [
            "CPU times: user 11.2 ms, sys: 0 ns, total: 11.2 ms\n",
            "Wall time: 2 s\n"
          ]
        }
      ]
    },
    {
      "cell_type": "code",
      "source": [],
      "metadata": {
        "id": "QLvpFYRB444-"
      },
      "execution_count": null,
      "outputs": []
    },
    {
      "cell_type": "code",
      "source": [],
      "metadata": {
        "id": "exxsMKqC4wWu"
      },
      "execution_count": null,
      "outputs": []
    }
  ]
}